{
 "cells": [
  {
   "cell_type": "markdown",
   "id": "f9937d95",
   "metadata": {},
   "source": [
    "## Social media vs emotions"
   ]
  },
  {
   "cell_type": "markdown",
   "id": "5b0d1480",
   "metadata": {},
   "source": [
    "![python logo](https://letsgethappi.com/wp-content/uploads/2023/11/Social-Media-and-Mental-Health-1.jpg)"
   ]
  },
  {
   "cell_type": "code",
   "execution_count": 1,
   "id": "c9cca03d",
   "metadata": {},
   "outputs": [],
   "source": [
    "import pandas as pd\n",
    "import numpy as np\n",
    "import seaborn as sns\n",
    "import matplotlib.pyplot as plt\n",
    "from sklearn.ensemble import GradientBoostingRegressor\n",
    "from sklearn.neighbors import KNeighborsRegressor\n",
    "from sklearn.metrics import mean_squared_error\n",
    "from sklearn.preprocessing import StandardScaler\n",
    "from sklearn.pipeline import Pipeline\n",
    "from sklearn.model_selection import GridSearchCV\n",
    "import warnings\n",
    "warnings.filterwarnings(\"ignore\")"
   ]
  },
  {
   "cell_type": "code",
   "execution_count": 2,
   "id": "0d2ff65e",
   "metadata": {},
   "outputs": [],
   "source": [
    "train = pd.read_csv('train.csv')\n",
    "test = pd.read_csv('test.csv')"
   ]
  },
  {
   "cell_type": "code",
   "execution_count": 3,
   "id": "bed4d2dc",
   "metadata": {},
   "outputs": [
    {
     "data": {
      "text/html": [
       "<div>\n",
       "<style scoped>\n",
       "    .dataframe tbody tr th:only-of-type {\n",
       "        vertical-align: middle;\n",
       "    }\n",
       "\n",
       "    .dataframe tbody tr th {\n",
       "        vertical-align: top;\n",
       "    }\n",
       "\n",
       "    .dataframe thead th {\n",
       "        text-align: right;\n",
       "    }\n",
       "</style>\n",
       "<table border=\"1\" class=\"dataframe\">\n",
       "  <thead>\n",
       "    <tr style=\"text-align: right;\">\n",
       "      <th></th>\n",
       "      <th>User_ID</th>\n",
       "      <th>Age</th>\n",
       "      <th>Gender</th>\n",
       "      <th>Platform</th>\n",
       "      <th>Daily_Usage_Time (minutes)</th>\n",
       "      <th>Posts_Per_Day</th>\n",
       "      <th>Likes_Received_Per_Day</th>\n",
       "      <th>Comments_Received_Per_Day</th>\n",
       "      <th>Messages_Sent_Per_Day</th>\n",
       "      <th>Dominant_Emotion</th>\n",
       "    </tr>\n",
       "  </thead>\n",
       "  <tbody>\n",
       "    <tr>\n",
       "      <th>0</th>\n",
       "      <td>1</td>\n",
       "      <td>25</td>\n",
       "      <td>Female</td>\n",
       "      <td>Instagram</td>\n",
       "      <td>120.0</td>\n",
       "      <td>3.0</td>\n",
       "      <td>45.0</td>\n",
       "      <td>10.0</td>\n",
       "      <td>12.0</td>\n",
       "      <td>Happiness</td>\n",
       "    </tr>\n",
       "    <tr>\n",
       "      <th>1</th>\n",
       "      <td>2</td>\n",
       "      <td>30</td>\n",
       "      <td>Male</td>\n",
       "      <td>Twitter</td>\n",
       "      <td>90.0</td>\n",
       "      <td>5.0</td>\n",
       "      <td>20.0</td>\n",
       "      <td>25.0</td>\n",
       "      <td>30.0</td>\n",
       "      <td>Anger</td>\n",
       "    </tr>\n",
       "    <tr>\n",
       "      <th>2</th>\n",
       "      <td>3</td>\n",
       "      <td>22</td>\n",
       "      <td>Non-binary</td>\n",
       "      <td>Facebook</td>\n",
       "      <td>60.0</td>\n",
       "      <td>2.0</td>\n",
       "      <td>15.0</td>\n",
       "      <td>5.0</td>\n",
       "      <td>20.0</td>\n",
       "      <td>Neutral</td>\n",
       "    </tr>\n",
       "    <tr>\n",
       "      <th>3</th>\n",
       "      <td>4</td>\n",
       "      <td>28</td>\n",
       "      <td>Female</td>\n",
       "      <td>Instagram</td>\n",
       "      <td>200.0</td>\n",
       "      <td>8.0</td>\n",
       "      <td>100.0</td>\n",
       "      <td>30.0</td>\n",
       "      <td>50.0</td>\n",
       "      <td>Anxiety</td>\n",
       "    </tr>\n",
       "    <tr>\n",
       "      <th>4</th>\n",
       "      <td>5</td>\n",
       "      <td>33</td>\n",
       "      <td>Male</td>\n",
       "      <td>LinkedIn</td>\n",
       "      <td>45.0</td>\n",
       "      <td>1.0</td>\n",
       "      <td>5.0</td>\n",
       "      <td>2.0</td>\n",
       "      <td>10.0</td>\n",
       "      <td>Boredom</td>\n",
       "    </tr>\n",
       "  </tbody>\n",
       "</table>\n",
       "</div>"
      ],
      "text/plain": [
       "  User_ID Age      Gender   Platform  Daily_Usage_Time (minutes)  \\\n",
       "0       1  25      Female  Instagram                       120.0   \n",
       "1       2  30        Male    Twitter                        90.0   \n",
       "2       3  22  Non-binary   Facebook                        60.0   \n",
       "3       4  28      Female  Instagram                       200.0   \n",
       "4       5  33        Male   LinkedIn                        45.0   \n",
       "\n",
       "   Posts_Per_Day  Likes_Received_Per_Day  Comments_Received_Per_Day  \\\n",
       "0            3.0                    45.0                       10.0   \n",
       "1            5.0                    20.0                       25.0   \n",
       "2            2.0                    15.0                        5.0   \n",
       "3            8.0                   100.0                       30.0   \n",
       "4            1.0                     5.0                        2.0   \n",
       "\n",
       "   Messages_Sent_Per_Day Dominant_Emotion  \n",
       "0                   12.0        Happiness  \n",
       "1                   30.0            Anger  \n",
       "2                   20.0          Neutral  \n",
       "3                   50.0          Anxiety  \n",
       "4                   10.0          Boredom  "
      ]
     },
     "execution_count": 3,
     "metadata": {},
     "output_type": "execute_result"
    }
   ],
   "source": [
    "train.head()"
   ]
  },
  {
   "cell_type": "code",
   "execution_count": 4,
   "id": "982e0c25",
   "metadata": {},
   "outputs": [
    {
     "data": {
      "text/html": [
       "<div>\n",
       "<style scoped>\n",
       "    .dataframe tbody tr th:only-of-type {\n",
       "        vertical-align: middle;\n",
       "    }\n",
       "\n",
       "    .dataframe tbody tr th {\n",
       "        vertical-align: top;\n",
       "    }\n",
       "\n",
       "    .dataframe thead th {\n",
       "        text-align: right;\n",
       "    }\n",
       "</style>\n",
       "<table border=\"1\" class=\"dataframe\">\n",
       "  <thead>\n",
       "    <tr style=\"text-align: right;\">\n",
       "      <th></th>\n",
       "      <th>User_ID</th>\n",
       "      <th>Age</th>\n",
       "      <th>Gender</th>\n",
       "      <th>Platform</th>\n",
       "      <th>Daily_Usage_Time (minutes)</th>\n",
       "      <th>Posts_Per_Day</th>\n",
       "      <th>Likes_Received_Per_Day</th>\n",
       "      <th>Comments_Received_Per_Day</th>\n",
       "      <th>Messages_Sent_Per_Day</th>\n",
       "      <th>Dominant_Emotion</th>\n",
       "    </tr>\n",
       "  </thead>\n",
       "  <tbody>\n",
       "    <tr>\n",
       "      <th>996</th>\n",
       "      <td>996</td>\n",
       "      <td>33</td>\n",
       "      <td>Non-binary</td>\n",
       "      <td>Twitter</td>\n",
       "      <td>85.0</td>\n",
       "      <td>4.0</td>\n",
       "      <td>35.0</td>\n",
       "      <td>18.0</td>\n",
       "      <td>18.0</td>\n",
       "      <td>Boredom</td>\n",
       "    </tr>\n",
       "    <tr>\n",
       "      <th>997</th>\n",
       "      <td>997</td>\n",
       "      <td>22</td>\n",
       "      <td>Female</td>\n",
       "      <td>Facebook</td>\n",
       "      <td>70.0</td>\n",
       "      <td>1.0</td>\n",
       "      <td>14.0</td>\n",
       "      <td>6.0</td>\n",
       "      <td>10.0</td>\n",
       "      <td>Neutral</td>\n",
       "    </tr>\n",
       "    <tr>\n",
       "      <th>998</th>\n",
       "      <td>998</td>\n",
       "      <td>35</td>\n",
       "      <td>Male</td>\n",
       "      <td>Whatsapp</td>\n",
       "      <td>110.0</td>\n",
       "      <td>3.0</td>\n",
       "      <td>50.0</td>\n",
       "      <td>25.0</td>\n",
       "      <td>25.0</td>\n",
       "      <td>Happiness</td>\n",
       "    </tr>\n",
       "    <tr>\n",
       "      <th>999</th>\n",
       "      <td>999</td>\n",
       "      <td>28</td>\n",
       "      <td>Non-binary</td>\n",
       "      <td>Telegram</td>\n",
       "      <td>60.0</td>\n",
       "      <td>2.0</td>\n",
       "      <td>18.0</td>\n",
       "      <td>8.0</td>\n",
       "      <td>18.0</td>\n",
       "      <td>Anger</td>\n",
       "    </tr>\n",
       "    <tr>\n",
       "      <th>1000</th>\n",
       "      <td>1000</td>\n",
       "      <td>27</td>\n",
       "      <td>Female</td>\n",
       "      <td>Snapchat</td>\n",
       "      <td>120.0</td>\n",
       "      <td>4.0</td>\n",
       "      <td>40.0</td>\n",
       "      <td>18.0</td>\n",
       "      <td>22.0</td>\n",
       "      <td>Neutral</td>\n",
       "    </tr>\n",
       "  </tbody>\n",
       "</table>\n",
       "</div>"
      ],
      "text/plain": [
       "     User_ID Age      Gender  Platform  Daily_Usage_Time (minutes)  \\\n",
       "996      996  33  Non-binary   Twitter                        85.0   \n",
       "997      997  22      Female  Facebook                        70.0   \n",
       "998      998  35        Male  Whatsapp                       110.0   \n",
       "999      999  28  Non-binary  Telegram                        60.0   \n",
       "1000    1000  27      Female  Snapchat                       120.0   \n",
       "\n",
       "      Posts_Per_Day  Likes_Received_Per_Day  Comments_Received_Per_Day  \\\n",
       "996             4.0                    35.0                       18.0   \n",
       "997             1.0                    14.0                        6.0   \n",
       "998             3.0                    50.0                       25.0   \n",
       "999             2.0                    18.0                        8.0   \n",
       "1000            4.0                    40.0                       18.0   \n",
       "\n",
       "      Messages_Sent_Per_Day Dominant_Emotion  \n",
       "996                    18.0          Boredom  \n",
       "997                    10.0          Neutral  \n",
       "998                    25.0        Happiness  \n",
       "999                    18.0            Anger  \n",
       "1000                   22.0          Neutral  "
      ]
     },
     "execution_count": 4,
     "metadata": {},
     "output_type": "execute_result"
    }
   ],
   "source": [
    "train.tail()"
   ]
  },
  {
   "cell_type": "code",
   "execution_count": 5,
   "id": "16c305f9",
   "metadata": {},
   "outputs": [
    {
     "data": {
      "text/html": [
       "<div>\n",
       "<style scoped>\n",
       "    .dataframe tbody tr th:only-of-type {\n",
       "        vertical-align: middle;\n",
       "    }\n",
       "\n",
       "    .dataframe tbody tr th {\n",
       "        vertical-align: top;\n",
       "    }\n",
       "\n",
       "    .dataframe thead th {\n",
       "        text-align: right;\n",
       "    }\n",
       "</style>\n",
       "<table border=\"1\" class=\"dataframe\">\n",
       "  <thead>\n",
       "    <tr style=\"text-align: right;\">\n",
       "      <th></th>\n",
       "      <th>User_ID</th>\n",
       "      <th>Age</th>\n",
       "      <th>Gender</th>\n",
       "      <th>Platform</th>\n",
       "      <th>Daily_Usage_Time (minutes)</th>\n",
       "      <th>Posts_Per_Day</th>\n",
       "      <th>Likes_Received_Per_Day</th>\n",
       "      <th>Comments_Received_Per_Day</th>\n",
       "      <th>Messages_Sent_Per_Day</th>\n",
       "      <th>Dominant_Emotion</th>\n",
       "    </tr>\n",
       "  </thead>\n",
       "  <tbody>\n",
       "    <tr>\n",
       "      <th>0</th>\n",
       "      <td>500</td>\n",
       "      <td>27</td>\n",
       "      <td>Female</td>\n",
       "      <td>Snapchat</td>\n",
       "      <td>120</td>\n",
       "      <td>4</td>\n",
       "      <td>40</td>\n",
       "      <td>18</td>\n",
       "      <td>22</td>\n",
       "      <td>Neutral</td>\n",
       "    </tr>\n",
       "    <tr>\n",
       "      <th>1</th>\n",
       "      <td>488</td>\n",
       "      <td>21</td>\n",
       "      <td>Non-binary</td>\n",
       "      <td>Snapchat</td>\n",
       "      <td>60</td>\n",
       "      <td>1</td>\n",
       "      <td>18</td>\n",
       "      <td>7</td>\n",
       "      <td>12</td>\n",
       "      <td>Neutral</td>\n",
       "    </tr>\n",
       "    <tr>\n",
       "      <th>2</th>\n",
       "      <td>776</td>\n",
       "      <td>28</td>\n",
       "      <td>Non-binary</td>\n",
       "      <td>Snapchat</td>\n",
       "      <td>115</td>\n",
       "      <td>3</td>\n",
       "      <td>38</td>\n",
       "      <td>18</td>\n",
       "      <td>27</td>\n",
       "      <td>Anxiety</td>\n",
       "    </tr>\n",
       "    <tr>\n",
       "      <th>3</th>\n",
       "      <td>869</td>\n",
       "      <td>27</td>\n",
       "      <td>Male</td>\n",
       "      <td>Telegram</td>\n",
       "      <td>105</td>\n",
       "      <td>3</td>\n",
       "      <td>48</td>\n",
       "      <td>20</td>\n",
       "      <td>28</td>\n",
       "      <td>Anxiety</td>\n",
       "    </tr>\n",
       "    <tr>\n",
       "      <th>4</th>\n",
       "      <td>573</td>\n",
       "      <td>21</td>\n",
       "      <td>Non-binary</td>\n",
       "      <td>Facebook</td>\n",
       "      <td>55</td>\n",
       "      <td>3</td>\n",
       "      <td>17</td>\n",
       "      <td>7</td>\n",
       "      <td>12</td>\n",
       "      <td>Neutral</td>\n",
       "    </tr>\n",
       "  </tbody>\n",
       "</table>\n",
       "</div>"
      ],
      "text/plain": [
       "   User_ID Age      Gender  Platform  Daily_Usage_Time (minutes)  \\\n",
       "0      500  27      Female  Snapchat                         120   \n",
       "1      488  21  Non-binary  Snapchat                          60   \n",
       "2      776  28  Non-binary  Snapchat                         115   \n",
       "3      869  27        Male  Telegram                         105   \n",
       "4      573  21  Non-binary  Facebook                          55   \n",
       "\n",
       "   Posts_Per_Day  Likes_Received_Per_Day  Comments_Received_Per_Day  \\\n",
       "0              4                      40                         18   \n",
       "1              1                      18                          7   \n",
       "2              3                      38                         18   \n",
       "3              3                      48                         20   \n",
       "4              3                      17                          7   \n",
       "\n",
       "   Messages_Sent_Per_Day Dominant_Emotion  \n",
       "0                     22          Neutral  \n",
       "1                     12          Neutral  \n",
       "2                     27          Anxiety  \n",
       "3                     28          Anxiety  \n",
       "4                     12          Neutral  "
      ]
     },
     "execution_count": 5,
     "metadata": {},
     "output_type": "execute_result"
    }
   ],
   "source": [
    "test.head()"
   ]
  },
  {
   "cell_type": "code",
   "execution_count": 6,
   "id": "afca5a2c",
   "metadata": {},
   "outputs": [
    {
     "data": {
      "text/html": [
       "<div>\n",
       "<style scoped>\n",
       "    .dataframe tbody tr th:only-of-type {\n",
       "        vertical-align: middle;\n",
       "    }\n",
       "\n",
       "    .dataframe tbody tr th {\n",
       "        vertical-align: top;\n",
       "    }\n",
       "\n",
       "    .dataframe thead th {\n",
       "        text-align: right;\n",
       "    }\n",
       "</style>\n",
       "<table border=\"1\" class=\"dataframe\">\n",
       "  <thead>\n",
       "    <tr style=\"text-align: right;\">\n",
       "      <th></th>\n",
       "      <th>User_ID</th>\n",
       "      <th>Age</th>\n",
       "      <th>Gender</th>\n",
       "      <th>Platform</th>\n",
       "      <th>Daily_Usage_Time (minutes)</th>\n",
       "      <th>Posts_Per_Day</th>\n",
       "      <th>Likes_Received_Per_Day</th>\n",
       "      <th>Comments_Received_Per_Day</th>\n",
       "      <th>Messages_Sent_Per_Day</th>\n",
       "      <th>Dominant_Emotion</th>\n",
       "    </tr>\n",
       "  </thead>\n",
       "  <tbody>\n",
       "    <tr>\n",
       "      <th>98</th>\n",
       "      <td>184</td>\n",
       "      <td>22</td>\n",
       "      <td>Male</td>\n",
       "      <td>Twitter</td>\n",
       "      <td>70</td>\n",
       "      <td>1</td>\n",
       "      <td>20</td>\n",
       "      <td>5</td>\n",
       "      <td>22</td>\n",
       "      <td>Neutral</td>\n",
       "    </tr>\n",
       "    <tr>\n",
       "      <th>99</th>\n",
       "      <td>896</td>\n",
       "      <td>33</td>\n",
       "      <td>Male</td>\n",
       "      <td>LinkedIn</td>\n",
       "      <td>85</td>\n",
       "      <td>4</td>\n",
       "      <td>35</td>\n",
       "      <td>18</td>\n",
       "      <td>18</td>\n",
       "      <td>Boredom</td>\n",
       "    </tr>\n",
       "    <tr>\n",
       "      <th>100</th>\n",
       "      <td>708</td>\n",
       "      <td>24</td>\n",
       "      <td>Non-binary</td>\n",
       "      <td>Facebook</td>\n",
       "      <td>110</td>\n",
       "      <td>6</td>\n",
       "      <td>35</td>\n",
       "      <td>23</td>\n",
       "      <td>25</td>\n",
       "      <td>Sadness</td>\n",
       "    </tr>\n",
       "    <tr>\n",
       "      <th>101</th>\n",
       "      <td>993</td>\n",
       "      <td>24</td>\n",
       "      <td>Male</td>\n",
       "      <td>Telegram</td>\n",
       "      <td>75</td>\n",
       "      <td>3</td>\n",
       "      <td>37</td>\n",
       "      <td>16</td>\n",
       "      <td>22</td>\n",
       "      <td>Neutral</td>\n",
       "    </tr>\n",
       "    <tr>\n",
       "      <th>102</th>\n",
       "      <td>60</td>\n",
       "      <td>27</td>\n",
       "      <td>Male</td>\n",
       "      <td>Facebook</td>\n",
       "      <td>60</td>\n",
       "      <td>1</td>\n",
       "      <td>10</td>\n",
       "      <td>4</td>\n",
       "      <td>15</td>\n",
       "      <td>Boredom</td>\n",
       "    </tr>\n",
       "  </tbody>\n",
       "</table>\n",
       "</div>"
      ],
      "text/plain": [
       "     User_ID Age      Gender  Platform  Daily_Usage_Time (minutes)  \\\n",
       "98       184  22        Male   Twitter                          70   \n",
       "99       896  33        Male  LinkedIn                          85   \n",
       "100      708  24  Non-binary  Facebook                         110   \n",
       "101      993  24        Male  Telegram                          75   \n",
       "102       60  27        Male  Facebook                          60   \n",
       "\n",
       "     Posts_Per_Day  Likes_Received_Per_Day  Comments_Received_Per_Day  \\\n",
       "98               1                      20                          5   \n",
       "99               4                      35                         18   \n",
       "100              6                      35                         23   \n",
       "101              3                      37                         16   \n",
       "102              1                      10                          4   \n",
       "\n",
       "     Messages_Sent_Per_Day Dominant_Emotion  \n",
       "98                      22          Neutral  \n",
       "99                      18          Boredom  \n",
       "100                     25          Sadness  \n",
       "101                     22          Neutral  \n",
       "102                     15          Boredom  "
      ]
     },
     "execution_count": 6,
     "metadata": {},
     "output_type": "execute_result"
    }
   ],
   "source": [
    "test.tail()"
   ]
  },
  {
   "cell_type": "code",
   "execution_count": 7,
   "id": "ed77aab0",
   "metadata": {},
   "outputs": [
    {
     "data": {
      "text/plain": [
       "(1001, 10)"
      ]
     },
     "execution_count": 7,
     "metadata": {},
     "output_type": "execute_result"
    }
   ],
   "source": [
    "train.shape"
   ]
  },
  {
   "cell_type": "code",
   "execution_count": 8,
   "id": "ef960c87",
   "metadata": {},
   "outputs": [
    {
     "data": {
      "text/plain": [
       "(103, 10)"
      ]
     },
     "execution_count": 8,
     "metadata": {},
     "output_type": "execute_result"
    }
   ],
   "source": [
    "test.shape"
   ]
  },
  {
   "cell_type": "code",
   "execution_count": 9,
   "id": "268f60f1",
   "metadata": {},
   "outputs": [
    {
     "data": {
      "text/plain": [
       "Index(['User_ID', 'Age', 'Gender', 'Platform', 'Daily_Usage_Time (minutes)',\n",
       "       'Posts_Per_Day', 'Likes_Received_Per_Day', 'Comments_Received_Per_Day',\n",
       "       'Messages_Sent_Per_Day', 'Dominant_Emotion'],\n",
       "      dtype='object')"
      ]
     },
     "execution_count": 9,
     "metadata": {},
     "output_type": "execute_result"
    }
   ],
   "source": [
    "train.columns"
   ]
  },
  {
   "cell_type": "code",
   "execution_count": 10,
   "id": "e4e67b31",
   "metadata": {},
   "outputs": [
    {
     "data": {
      "text/plain": [
       "Index(['User_ID', 'Age', 'Gender', 'Platform', 'Daily_Usage_Time (minutes)',\n",
       "       'Posts_Per_Day', 'Likes_Received_Per_Day', 'Comments_Received_Per_Day',\n",
       "       'Messages_Sent_Per_Day', 'Dominant_Emotion'],\n",
       "      dtype='object')"
      ]
     },
     "execution_count": 10,
     "metadata": {},
     "output_type": "execute_result"
    }
   ],
   "source": [
    "test.columns"
   ]
  },
  {
   "cell_type": "code",
   "execution_count": 11,
   "id": "988cff95",
   "metadata": {},
   "outputs": [
    {
     "data": {
      "text/plain": [
       "User_ID                        object\n",
       "Age                            object\n",
       "Gender                         object\n",
       "Platform                       object\n",
       "Daily_Usage_Time (minutes)    float64\n",
       "Posts_Per_Day                 float64\n",
       "Likes_Received_Per_Day        float64\n",
       "Comments_Received_Per_Day     float64\n",
       "Messages_Sent_Per_Day         float64\n",
       "Dominant_Emotion               object\n",
       "dtype: object"
      ]
     },
     "execution_count": 11,
     "metadata": {},
     "output_type": "execute_result"
    }
   ],
   "source": [
    "train.dtypes"
   ]
  },
  {
   "cell_type": "code",
   "execution_count": 12,
   "id": "c5a3f751",
   "metadata": {},
   "outputs": [
    {
     "data": {
      "text/plain": [
       "User_ID                        int64\n",
       "Age                           object\n",
       "Gender                        object\n",
       "Platform                      object\n",
       "Daily_Usage_Time (minutes)     int64\n",
       "Posts_Per_Day                  int64\n",
       "Likes_Received_Per_Day         int64\n",
       "Comments_Received_Per_Day      int64\n",
       "Messages_Sent_Per_Day          int64\n",
       "Dominant_Emotion              object\n",
       "dtype: object"
      ]
     },
     "execution_count": 12,
     "metadata": {},
     "output_type": "execute_result"
    }
   ],
   "source": [
    "test.dtypes"
   ]
  },
  {
   "cell_type": "code",
   "execution_count": 13,
   "id": "392558cc",
   "metadata": {},
   "outputs": [
    {
     "data": {
      "text/plain": [
       "<bound method DataFrame.info of      User_ID Age      Gender   Platform  Daily_Usage_Time (minutes)  \\\n",
       "0          1  25      Female  Instagram                       120.0   \n",
       "1          2  30        Male    Twitter                        90.0   \n",
       "2          3  22  Non-binary   Facebook                        60.0   \n",
       "3          4  28      Female  Instagram                       200.0   \n",
       "4          5  33        Male   LinkedIn                        45.0   \n",
       "...      ...  ..         ...        ...                         ...   \n",
       "996      996  33  Non-binary    Twitter                        85.0   \n",
       "997      997  22      Female   Facebook                        70.0   \n",
       "998      998  35        Male   Whatsapp                       110.0   \n",
       "999      999  28  Non-binary   Telegram                        60.0   \n",
       "1000    1000  27      Female   Snapchat                       120.0   \n",
       "\n",
       "      Posts_Per_Day  Likes_Received_Per_Day  Comments_Received_Per_Day  \\\n",
       "0               3.0                    45.0                       10.0   \n",
       "1               5.0                    20.0                       25.0   \n",
       "2               2.0                    15.0                        5.0   \n",
       "3               8.0                   100.0                       30.0   \n",
       "4               1.0                     5.0                        2.0   \n",
       "...             ...                     ...                        ...   \n",
       "996             4.0                    35.0                       18.0   \n",
       "997             1.0                    14.0                        6.0   \n",
       "998             3.0                    50.0                       25.0   \n",
       "999             2.0                    18.0                        8.0   \n",
       "1000            4.0                    40.0                       18.0   \n",
       "\n",
       "      Messages_Sent_Per_Day Dominant_Emotion  \n",
       "0                      12.0        Happiness  \n",
       "1                      30.0            Anger  \n",
       "2                      20.0          Neutral  \n",
       "3                      50.0          Anxiety  \n",
       "4                      10.0          Boredom  \n",
       "...                     ...              ...  \n",
       "996                    18.0          Boredom  \n",
       "997                    10.0          Neutral  \n",
       "998                    25.0        Happiness  \n",
       "999                    18.0            Anger  \n",
       "1000                   22.0          Neutral  \n",
       "\n",
       "[1001 rows x 10 columns]>"
      ]
     },
     "execution_count": 13,
     "metadata": {},
     "output_type": "execute_result"
    }
   ],
   "source": [
    "train.info"
   ]
  },
  {
   "cell_type": "code",
   "execution_count": 14,
   "id": "6152ad05",
   "metadata": {},
   "outputs": [
    {
     "data": {
      "text/plain": [
       "<bound method DataFrame.info of      User_ID Age      Gender  Platform  Daily_Usage_Time (minutes)  \\\n",
       "0        500  27      Female  Snapchat                         120   \n",
       "1        488  21  Non-binary  Snapchat                          60   \n",
       "2        776  28  Non-binary  Snapchat                         115   \n",
       "3        869  27        Male  Telegram                         105   \n",
       "4        573  21  Non-binary  Facebook                          55   \n",
       "..       ...  ..         ...       ...                         ...   \n",
       "98       184  22        Male   Twitter                          70   \n",
       "99       896  33        Male  LinkedIn                          85   \n",
       "100      708  24  Non-binary  Facebook                         110   \n",
       "101      993  24        Male  Telegram                          75   \n",
       "102       60  27        Male  Facebook                          60   \n",
       "\n",
       "     Posts_Per_Day  Likes_Received_Per_Day  Comments_Received_Per_Day  \\\n",
       "0                4                      40                         18   \n",
       "1                1                      18                          7   \n",
       "2                3                      38                         18   \n",
       "3                3                      48                         20   \n",
       "4                3                      17                          7   \n",
       "..             ...                     ...                        ...   \n",
       "98               1                      20                          5   \n",
       "99               4                      35                         18   \n",
       "100              6                      35                         23   \n",
       "101              3                      37                         16   \n",
       "102              1                      10                          4   \n",
       "\n",
       "     Messages_Sent_Per_Day Dominant_Emotion  \n",
       "0                       22          Neutral  \n",
       "1                       12          Neutral  \n",
       "2                       27          Anxiety  \n",
       "3                       28          Anxiety  \n",
       "4                       12          Neutral  \n",
       "..                     ...              ...  \n",
       "98                      22          Neutral  \n",
       "99                      18          Boredom  \n",
       "100                     25          Sadness  \n",
       "101                     22          Neutral  \n",
       "102                     15          Boredom  \n",
       "\n",
       "[103 rows x 10 columns]>"
      ]
     },
     "execution_count": 14,
     "metadata": {},
     "output_type": "execute_result"
    }
   ],
   "source": [
    "test.info"
   ]
  },
  {
   "cell_type": "code",
   "execution_count": 15,
   "id": "c1fc85e5",
   "metadata": {},
   "outputs": [
    {
     "data": {
      "text/html": [
       "<div>\n",
       "<style scoped>\n",
       "    .dataframe tbody tr th:only-of-type {\n",
       "        vertical-align: middle;\n",
       "    }\n",
       "\n",
       "    .dataframe tbody tr th {\n",
       "        vertical-align: top;\n",
       "    }\n",
       "\n",
       "    .dataframe thead th {\n",
       "        text-align: right;\n",
       "    }\n",
       "</style>\n",
       "<table border=\"1\" class=\"dataframe\">\n",
       "  <thead>\n",
       "    <tr style=\"text-align: right;\">\n",
       "      <th></th>\n",
       "      <th>Daily_Usage_Time (minutes)</th>\n",
       "      <th>Posts_Per_Day</th>\n",
       "      <th>Likes_Received_Per_Day</th>\n",
       "      <th>Comments_Received_Per_Day</th>\n",
       "      <th>Messages_Sent_Per_Day</th>\n",
       "    </tr>\n",
       "  </thead>\n",
       "  <tbody>\n",
       "    <tr>\n",
       "      <th>count</th>\n",
       "      <td>1000.000000</td>\n",
       "      <td>1000.000000</td>\n",
       "      <td>1000.000000</td>\n",
       "      <td>1000.000000</td>\n",
       "      <td>1000.000000</td>\n",
       "    </tr>\n",
       "    <tr>\n",
       "      <th>mean</th>\n",
       "      <td>95.950000</td>\n",
       "      <td>3.321000</td>\n",
       "      <td>39.898000</td>\n",
       "      <td>15.611000</td>\n",
       "      <td>22.560000</td>\n",
       "    </tr>\n",
       "    <tr>\n",
       "      <th>std</th>\n",
       "      <td>38.850442</td>\n",
       "      <td>1.914582</td>\n",
       "      <td>26.393867</td>\n",
       "      <td>8.819493</td>\n",
       "      <td>8.516274</td>\n",
       "    </tr>\n",
       "    <tr>\n",
       "      <th>min</th>\n",
       "      <td>40.000000</td>\n",
       "      <td>1.000000</td>\n",
       "      <td>5.000000</td>\n",
       "      <td>2.000000</td>\n",
       "      <td>8.000000</td>\n",
       "    </tr>\n",
       "    <tr>\n",
       "      <th>25%</th>\n",
       "      <td>65.000000</td>\n",
       "      <td>2.000000</td>\n",
       "      <td>20.000000</td>\n",
       "      <td>8.000000</td>\n",
       "      <td>17.750000</td>\n",
       "    </tr>\n",
       "    <tr>\n",
       "      <th>50%</th>\n",
       "      <td>85.000000</td>\n",
       "      <td>3.000000</td>\n",
       "      <td>33.000000</td>\n",
       "      <td>14.000000</td>\n",
       "      <td>22.000000</td>\n",
       "    </tr>\n",
       "    <tr>\n",
       "      <th>75%</th>\n",
       "      <td>120.000000</td>\n",
       "      <td>4.000000</td>\n",
       "      <td>55.000000</td>\n",
       "      <td>22.000000</td>\n",
       "      <td>28.000000</td>\n",
       "    </tr>\n",
       "    <tr>\n",
       "      <th>max</th>\n",
       "      <td>200.000000</td>\n",
       "      <td>8.000000</td>\n",
       "      <td>110.000000</td>\n",
       "      <td>40.000000</td>\n",
       "      <td>50.000000</td>\n",
       "    </tr>\n",
       "  </tbody>\n",
       "</table>\n",
       "</div>"
      ],
      "text/plain": [
       "       Daily_Usage_Time (minutes)  Posts_Per_Day  Likes_Received_Per_Day  \\\n",
       "count                 1000.000000    1000.000000             1000.000000   \n",
       "mean                    95.950000       3.321000               39.898000   \n",
       "std                     38.850442       1.914582               26.393867   \n",
       "min                     40.000000       1.000000                5.000000   \n",
       "25%                     65.000000       2.000000               20.000000   \n",
       "50%                     85.000000       3.000000               33.000000   \n",
       "75%                    120.000000       4.000000               55.000000   \n",
       "max                    200.000000       8.000000              110.000000   \n",
       "\n",
       "       Comments_Received_Per_Day  Messages_Sent_Per_Day  \n",
       "count                1000.000000            1000.000000  \n",
       "mean                   15.611000              22.560000  \n",
       "std                     8.819493               8.516274  \n",
       "min                     2.000000               8.000000  \n",
       "25%                     8.000000              17.750000  \n",
       "50%                    14.000000              22.000000  \n",
       "75%                    22.000000              28.000000  \n",
       "max                    40.000000              50.000000  "
      ]
     },
     "execution_count": 15,
     "metadata": {},
     "output_type": "execute_result"
    }
   ],
   "source": [
    "train.describe()"
   ]
  },
  {
   "cell_type": "code",
   "execution_count": 16,
   "id": "030dbb31",
   "metadata": {},
   "outputs": [
    {
     "data": {
      "text/html": [
       "<div>\n",
       "<style scoped>\n",
       "    .dataframe tbody tr th:only-of-type {\n",
       "        vertical-align: middle;\n",
       "    }\n",
       "\n",
       "    .dataframe tbody tr th {\n",
       "        vertical-align: top;\n",
       "    }\n",
       "\n",
       "    .dataframe thead th {\n",
       "        text-align: right;\n",
       "    }\n",
       "</style>\n",
       "<table border=\"1\" class=\"dataframe\">\n",
       "  <thead>\n",
       "    <tr style=\"text-align: right;\">\n",
       "      <th></th>\n",
       "      <th>User_ID</th>\n",
       "      <th>Daily_Usage_Time (minutes)</th>\n",
       "      <th>Posts_Per_Day</th>\n",
       "      <th>Likes_Received_Per_Day</th>\n",
       "      <th>Comments_Received_Per_Day</th>\n",
       "      <th>Messages_Sent_Per_Day</th>\n",
       "    </tr>\n",
       "  </thead>\n",
       "  <tbody>\n",
       "    <tr>\n",
       "      <th>count</th>\n",
       "      <td>103.000000</td>\n",
       "      <td>103.000000</td>\n",
       "      <td>103.000000</td>\n",
       "      <td>103.000000</td>\n",
       "      <td>103.000000</td>\n",
       "      <td>103.000000</td>\n",
       "    </tr>\n",
       "    <tr>\n",
       "      <th>mean</th>\n",
       "      <td>521.262136</td>\n",
       "      <td>88.009709</td>\n",
       "      <td>2.864078</td>\n",
       "      <td>33.456311</td>\n",
       "      <td>13.766990</td>\n",
       "      <td>20.388350</td>\n",
       "    </tr>\n",
       "    <tr>\n",
       "      <th>std</th>\n",
       "      <td>288.949991</td>\n",
       "      <td>33.979087</td>\n",
       "      <td>1.732326</td>\n",
       "      <td>23.031426</td>\n",
       "      <td>8.107372</td>\n",
       "      <td>7.372755</td>\n",
       "    </tr>\n",
       "    <tr>\n",
       "      <th>min</th>\n",
       "      <td>16.000000</td>\n",
       "      <td>40.000000</td>\n",
       "      <td>1.000000</td>\n",
       "      <td>5.000000</td>\n",
       "      <td>2.000000</td>\n",
       "      <td>10.000000</td>\n",
       "    </tr>\n",
       "    <tr>\n",
       "      <th>25%</th>\n",
       "      <td>275.000000</td>\n",
       "      <td>60.000000</td>\n",
       "      <td>1.000000</td>\n",
       "      <td>15.000000</td>\n",
       "      <td>7.000000</td>\n",
       "      <td>15.000000</td>\n",
       "    </tr>\n",
       "    <tr>\n",
       "      <th>50%</th>\n",
       "      <td>526.000000</td>\n",
       "      <td>75.000000</td>\n",
       "      <td>2.000000</td>\n",
       "      <td>27.000000</td>\n",
       "      <td>12.000000</td>\n",
       "      <td>20.000000</td>\n",
       "    </tr>\n",
       "    <tr>\n",
       "      <th>75%</th>\n",
       "      <td>776.000000</td>\n",
       "      <td>105.000000</td>\n",
       "      <td>4.000000</td>\n",
       "      <td>40.000000</td>\n",
       "      <td>19.500000</td>\n",
       "      <td>25.000000</td>\n",
       "    </tr>\n",
       "    <tr>\n",
       "      <th>max</th>\n",
       "      <td>997.000000</td>\n",
       "      <td>200.000000</td>\n",
       "      <td>8.000000</td>\n",
       "      <td>110.000000</td>\n",
       "      <td>40.000000</td>\n",
       "      <td>45.000000</td>\n",
       "    </tr>\n",
       "  </tbody>\n",
       "</table>\n",
       "</div>"
      ],
      "text/plain": [
       "          User_ID  Daily_Usage_Time (minutes)  Posts_Per_Day  \\\n",
       "count  103.000000                  103.000000     103.000000   \n",
       "mean   521.262136                   88.009709       2.864078   \n",
       "std    288.949991                   33.979087       1.732326   \n",
       "min     16.000000                   40.000000       1.000000   \n",
       "25%    275.000000                   60.000000       1.000000   \n",
       "50%    526.000000                   75.000000       2.000000   \n",
       "75%    776.000000                  105.000000       4.000000   \n",
       "max    997.000000                  200.000000       8.000000   \n",
       "\n",
       "       Likes_Received_Per_Day  Comments_Received_Per_Day  \\\n",
       "count              103.000000                 103.000000   \n",
       "mean                33.456311                  13.766990   \n",
       "std                 23.031426                   8.107372   \n",
       "min                  5.000000                   2.000000   \n",
       "25%                 15.000000                   7.000000   \n",
       "50%                 27.000000                  12.000000   \n",
       "75%                 40.000000                  19.500000   \n",
       "max                110.000000                  40.000000   \n",
       "\n",
       "       Messages_Sent_Per_Day  \n",
       "count             103.000000  \n",
       "mean               20.388350  \n",
       "std                 7.372755  \n",
       "min                10.000000  \n",
       "25%                15.000000  \n",
       "50%                20.000000  \n",
       "75%                25.000000  \n",
       "max                45.000000  "
      ]
     },
     "execution_count": 16,
     "metadata": {},
     "output_type": "execute_result"
    }
   ],
   "source": [
    "test.describe()"
   ]
  },
  {
   "cell_type": "code",
   "execution_count": 17,
   "id": "2ccdeceb",
   "metadata": {},
   "outputs": [
    {
     "data": {
      "text/plain": [
       "array(['Female', 'Male', 'Non-binary', '27', '24', '29', '33', '31', '22',\n",
       "       '25', '28', '30', '23', '34', '26', '35', '21', '32', nan],\n",
       "      dtype=object)"
      ]
     },
     "execution_count": 17,
     "metadata": {},
     "output_type": "execute_result"
    }
   ],
   "source": [
    "train['Gender'].unique()"
   ]
  },
  {
   "cell_type": "code",
   "execution_count": 18,
   "id": "5744ae5c",
   "metadata": {},
   "outputs": [],
   "source": [
    "def clean_column_gender(col):\n",
    "    try:\n",
    "        int(col)\n",
    "        return 'Uncertain'\n",
    "    except:\n",
    "        return col\n",
    "\n",
    "train['Gender'] = train['Gender'].apply(clean_column_gender)\n",
    "train['Gender'] = train['Gender'].fillna('Uncertain')\n",
    "\n",
    "\n",
    "test['Gender'] = test['Gender'].apply(clean_column_gender)\n",
    "test['Gender'] = test['Gender'].fillna('Uncertain')"
   ]
  },
  {
   "cell_type": "code",
   "execution_count": 19,
   "id": "4700ca11",
   "metadata": {},
   "outputs": [
    {
     "data": {
      "text/plain": [
       "User_ID                       0\n",
       "Age                           0\n",
       "Gender                        0\n",
       "Platform                      1\n",
       "Daily_Usage_Time (minutes)    1\n",
       "Posts_Per_Day                 1\n",
       "Likes_Received_Per_Day        1\n",
       "Comments_Received_Per_Day     1\n",
       "Messages_Sent_Per_Day         1\n",
       "Dominant_Emotion              1\n",
       "dtype: int64"
      ]
     },
     "execution_count": 19,
     "metadata": {},
     "output_type": "execute_result"
    }
   ],
   "source": [
    "train.isnull().sum()"
   ]
  },
  {
   "cell_type": "code",
   "execution_count": 20,
   "id": "c627bdaf",
   "metadata": {},
   "outputs": [],
   "source": [
    "train = train.fillna(0)\n",
    "test = test.fillna(0)"
   ]
  },
  {
   "cell_type": "code",
   "execution_count": 21,
   "id": "09c5dd62",
   "metadata": {},
   "outputs": [
    {
     "data": {
      "text/plain": [
       "array(['Female', 'Male', 'Non-binary', 'Uncertain'], dtype=object)"
      ]
     },
     "execution_count": 21,
     "metadata": {},
     "output_type": "execute_result"
    }
   ],
   "source": [
    "train['Gender'].unique()"
   ]
  },
  {
   "cell_type": "code",
   "execution_count": 22,
   "id": "0f81542f",
   "metadata": {},
   "outputs": [],
   "source": [
    "def clean_column_age(col):\n",
    "    try:\n",
    "        int(col)\n",
    "        return int(col)\n",
    "    except:\n",
    "        return 0\n",
    "\n",
    "train['Age'] = train['Age'].apply(clean_column_age)\n",
    "train['Age'] = train['Age'].fillna(0)\n",
    "\n",
    "test['Age'] = test['Age'].apply(clean_column_age)\n",
    "test['Age'] = test['Age'].fillna(0)"
   ]
  },
  {
   "cell_type": "code",
   "execution_count": 23,
   "id": "3caa6f05",
   "metadata": {},
   "outputs": [
    {
     "data": {
      "text/plain": [
       "array([25, 30, 22, 28, 33, 21, 27, 24, 29, 31, 23, 26, 34, 35, 32,  0],\n",
       "      dtype=int64)"
      ]
     },
     "execution_count": 23,
     "metadata": {},
     "output_type": "execute_result"
    }
   ],
   "source": [
    "train['Age'].unique()"
   ]
  },
  {
   "cell_type": "code",
   "execution_count": 24,
   "id": "eb49be9e",
   "metadata": {},
   "outputs": [
    {
     "data": {
      "text/plain": [
       "User_ID                       0\n",
       "Age                           0\n",
       "Gender                        0\n",
       "Platform                      0\n",
       "Daily_Usage_Time (minutes)    0\n",
       "Posts_Per_Day                 0\n",
       "Likes_Received_Per_Day        0\n",
       "Comments_Received_Per_Day     0\n",
       "Messages_Sent_Per_Day         0\n",
       "Dominant_Emotion              0\n",
       "dtype: int64"
      ]
     },
     "execution_count": 24,
     "metadata": {},
     "output_type": "execute_result"
    }
   ],
   "source": [
    "train.isnull().sum()"
   ]
  },
  {
   "cell_type": "code",
   "execution_count": 25,
   "id": "12d80a02",
   "metadata": {},
   "outputs": [
    {
     "data": {
      "text/plain": [
       "User_ID                       0\n",
       "Age                           0\n",
       "Gender                        0\n",
       "Platform                      0\n",
       "Daily_Usage_Time (minutes)    0\n",
       "Posts_Per_Day                 0\n",
       "Likes_Received_Per_Day        0\n",
       "Comments_Received_Per_Day     0\n",
       "Messages_Sent_Per_Day         0\n",
       "Dominant_Emotion              0\n",
       "dtype: int64"
      ]
     },
     "execution_count": 25,
     "metadata": {},
     "output_type": "execute_result"
    }
   ],
   "source": [
    "test.isnull().sum()"
   ]
  },
  {
   "cell_type": "code",
   "execution_count": 26,
   "id": "265c571b",
   "metadata": {},
   "outputs": [
    {
     "data": {
      "text/plain": [
       "array(['Instagram', 'Twitter', 'Facebook', 'LinkedIn', 'Whatsapp',\n",
       "       'Telegram', 'Snapchat', 0], dtype=object)"
      ]
     },
     "execution_count": 26,
     "metadata": {},
     "output_type": "execute_result"
    }
   ],
   "source": [
    "train[\"Platform\"].unique()"
   ]
  },
  {
   "cell_type": "code",
   "execution_count": 27,
   "id": "451e5563",
   "metadata": {},
   "outputs": [
    {
     "data": {
      "text/plain": [
       "array(['Snapchat', 'Telegram', 'Facebook', 'Instagram', 'LinkedIn',\n",
       "       'Twitter', 'Whatsapp'], dtype=object)"
      ]
     },
     "execution_count": 27,
     "metadata": {},
     "output_type": "execute_result"
    }
   ],
   "source": [
    "test[\"Platform\"].unique()"
   ]
  },
  {
   "cell_type": "code",
   "execution_count": 28,
   "id": "39d238eb",
   "metadata": {},
   "outputs": [
    {
     "data": {
      "text/plain": [
       "array([25, 30, 22, 28, 33, 21, 27, 24, 29, 31, 23, 26, 34, 35, 32,  0],\n",
       "      dtype=int64)"
      ]
     },
     "execution_count": 28,
     "metadata": {},
     "output_type": "execute_result"
    }
   ],
   "source": [
    "train[\"Age\"].unique()"
   ]
  },
  {
   "cell_type": "code",
   "execution_count": 29,
   "id": "d31b9628",
   "metadata": {},
   "outputs": [
    {
     "data": {
      "text/plain": [
       "array(['Happiness', 'Anger', 'Neutral', 'Anxiety', 'Boredom', 'Sadness',\n",
       "       0], dtype=object)"
      ]
     },
     "execution_count": 29,
     "metadata": {},
     "output_type": "execute_result"
    }
   ],
   "source": [
    "train[\"Dominant_Emotion\"].unique()"
   ]
  },
  {
   "cell_type": "code",
   "execution_count": 30,
   "id": "a8d92094",
   "metadata": {},
   "outputs": [
    {
     "data": {
      "image/png": "[encoded data removed]",
      "text/plain": [
       "<Figure size 1000x600 with 1 Axes>"
      ]
     },
     "metadata": {},
     "output_type": "display_data"
    }
   ],
   "source": [
    "plt.figure(figsize=(10, 6))\n",
    "sns.histplot(train['Age'], kde=True, bins=30)\n",
    "plt.title('Age Distribution')\n",
    "plt.xlabel('Age')\n",
    "plt.ylabel('Frequency')\n",
    "plt.savefig(\"Age Distribution.png\")\n",
    "plt.show()"
   ]
  },
  {
   "cell_type": "code",
   "execution_count": 31,
   "id": "4cf26f29",
   "metadata": {},
   "outputs": [
    {
     "data": {
      "image/png": "[encoded data removed]",
      "text/plain": [
       "<Figure size 700x500 with 1 Axes>"
      ]
     },
     "metadata": {},
     "output_type": "display_data"
    }
   ],
   "source": [
    "plt.figure(figsize=(7, 5))\n",
    "sns.countplot(x='Gender', data=train)\n",
    "plt.title('Gender Distribution')\n",
    "plt.xlabel('Gender')\n",
    "plt.ylabel('Count')\n",
    "plt.savefig(\"Gender Distribution.png\")\n",
    "plt.show()"
   ]
  },
  {
   "cell_type": "code",
   "execution_count": 32,
   "id": "4acf6bf4",
   "metadata": {},
   "outputs": [
    {
     "data": {
      "image/png": "[encoded data removed]",
      "text/plain": [
       "<Figure size 1200x600 with 1 Axes>"
      ]
     },
     "metadata": {},
     "output_type": "display_data"
    }
   ],
   "source": [
    "plt.figure(figsize=(12, 6))\n",
    "sns.barplot(x='Platform', y='Daily_Usage_Time (minutes)', data=train, estimator=np.mean)\n",
    "plt.title('Average Daily Usage Time by Platform')\n",
    "plt.xlabel('Platform')\n",
    "plt.ylabel('Daily Usage Time (minutes)')\n",
    "plt.savefig(\"Average Daily Usage Time by Platform.png\")\n",
    "plt.show()"
   ]
  },
  {
   "cell_type": "code",
   "execution_count": 33,
   "id": "95ba33ca",
   "metadata": {},
   "outputs": [
    {
     "data": {
      "image/png": "[encoded data removed]",
      "text/plain": [
       "<Figure size 1000x600 with 1 Axes>"
      ]
     },
     "metadata": {},
     "output_type": "display_data"
    }
   ],
   "source": [
    "plt.figure(figsize=(10, 6))\n",
    "sns.countplot(x='Dominant_Emotion', data=train)\n",
    "plt.title('Dominant Emotion Distribution')\n",
    "plt.xlabel('Dominant Emotion')\n",
    "plt.ylabel('Count')\n",
    "plt.savefig(\"Dominant Emotion Distribution.png\")\n",
    "plt.show()"
   ]
  },
  {
   "cell_type": "code",
   "execution_count": 34,
   "id": "95317768",
   "metadata": {},
   "outputs": [
    {
     "data": {
      "image/png": "[encoded data removed]",
      "text/plain": [
       "<Figure size 640x480 with 1 Axes>"
      ]
     },
     "metadata": {},
     "output_type": "display_data"
    }
   ],
   "source": [
    "sns.countplot(x='Dominant_Emotion', hue='Gender', data=train, palette=\"husl\")\n",
    "plt.savefig(\"Gender vs Dominant Emotion.png\")\n",
    "plt.show()"
   ]
  },
  {
   "cell_type": "code",
   "execution_count": 35,
   "id": "89a9bd7e",
   "metadata": {},
   "outputs": [
    {
     "data": {
      "image/png": "[encoded data removed]",
      "text/plain": [
       "<Figure size 640x480 with 1 Axes>"
      ]
     },
     "metadata": {},
     "output_type": "display_data"
    }
   ],
   "source": [
    "sns.scatterplot(train, x='Likes_Received_Per_Day', y='Daily_Usage_Time (minutes)', hue='Dominant_Emotion', palette=\"husl\", sizes=5)\n",
    "plt.savefig(\"Likes_Received_Per_Day vs Daily_Usage_Time (minutes) depending on Dominant_Emotion.png\")\n",
    "plt.show()"
   ]
  },
  {
   "cell_type": "code",
   "execution_count": 36,
   "id": "03fbd0b9",
   "metadata": {},
   "outputs": [
    {
     "data": {
      "image/png": "[encoded data removed]",
      "text/plain": [
       "<Figure size 1000x600 with 1 Axes>"
      ]
     },
     "metadata": {},
     "output_type": "display_data"
    }
   ],
   "source": [
    "plt.figure(figsize=(10, 6))\n",
    "boxplot = sns.histplot(train, x='Age', hue='Gender', palette='husl', multiple=\"stack\")\n",
    "boxplot.set_xlim(20, 35)\n",
    "plt.savefig(\"Age vs Gender.png\")\n",
    "plt.show()"
   ]
  },
  {
   "cell_type": "code",
   "execution_count": 37,
   "id": "ec5503a4",
   "metadata": {},
   "outputs": [],
   "source": [
    "train['Gender'] = train['Gender'].map({'Uncertain': 0, 'Female': 1, 'Male': 2, 'Non-binary':3})\n",
    "test['Gender'] = test['Gender'].map({'Uncertain': 0, 'Female': 1, 'Male': 2, 'Non-binary':3}, na_action='ignore')\n",
    "test['Gender'] = test['Gender'].fillna(0)"
   ]
  },
  {
   "cell_type": "code",
   "execution_count": 38,
   "id": "2cf2eebf",
   "metadata": {},
   "outputs": [
    {
     "data": {
      "text/plain": [
       "array(['Neutral', 'Anxiety', 'Happiness', 'Boredom', 'Sadness', 'Anger'],\n",
       "      dtype=object)"
      ]
     },
     "execution_count": 38,
     "metadata": {},
     "output_type": "execute_result"
    }
   ],
   "source": [
    "test['Dominant_Emotion'].unique()"
   ]
  },
  {
   "cell_type": "code",
   "execution_count": 39,
   "id": "75dbc5ba",
   "metadata": {},
   "outputs": [],
   "source": [
    "train['Dominant_Emotion'] = train['Dominant_Emotion'].map({'Happiness': 0, 'Anger': 1, 'Neutral': 2, 'Anxiety': 3, 'Boredom': 4, 'Sadness': 5, 0: 0})\n",
    "test['Dominant_Emotion'] = test['Dominant_Emotion'].map({'Happiness': 0, 'Anger': 1, 'Neutral': 2, 'Anxiety': 3, 'Boredom': 4, 'Sadness': 5})"
   ]
  },
  {
   "cell_type": "code",
   "execution_count": 40,
   "id": "7c4e0aa2",
   "metadata": {},
   "outputs": [],
   "source": [
    "x_train = train.drop(['Dominant_Emotion', 'User_ID', 'Platform'], axis=1)\n",
    "y_train = train['Dominant_Emotion']\n",
    "\n",
    "x_test = test.drop(['Dominant_Emotion', 'User_ID', 'Platform'], axis=1)\n",
    "y_test = test['Dominant_Emotion']"
   ]
  },
  {
   "cell_type": "code",
   "execution_count": 41,
   "id": "035af216",
   "metadata": {},
   "outputs": [],
   "source": [
    "\n",
    "boost_params = {\n",
    "    'n_estimators': [500,1000],\n",
    "    'learning_rate': [0.02, 0.05],\n",
    "    'max_depth': [1, 2],\n",
    "    'min_samples_leaf': [5,10],\n",
    "    'min_samples_split': [5,10]\n",
    "}\n",
    "\n",
    "boost_model = GradientBoostingRegressor()"
   ]
  },
  {
   "cell_type": "code",
   "execution_count": 42,
   "id": "cb4ae598",
   "metadata": {},
   "outputs": [
    {
     "data": {
      "text/plain": [
       "0.3168117363164271"
      ]
     },
     "execution_count": 42,
     "metadata": {},
     "output_type": "execute_result"
    }
   ],
   "source": [
    "boost_grid = GridSearchCV(boost_model, boost_params, cv=3, n_jobs=-1, error_score='raise')\n",
    "boost_grid.fit(x_train, y_train)\n",
    "y_pred = boost_grid.predict(x_test)\n",
    "mean_squared_error(y_test, y_pred)"
   ]
  },
  {
   "cell_type": "code",
   "execution_count": 43,
   "id": "4f58fd81",
   "metadata": {},
   "outputs": [
    {
     "name": "stdout",
     "output_type": "stream",
     "text": [
      "Fitting 5 folds for each of 99 candidates, totalling 495 fits\n"
     ]
    },
    {
     "data": {
      "text/plain": [
       "0.4174757281553398"
      ]
     },
     "execution_count": 43,
     "metadata": {},
     "output_type": "execute_result"
    }
   ],
   "source": [
    "knn_params = {\"knn__n_neighbors\": range(1, 100)}\n",
    "knn_pipe = Pipeline([(\"scaler\", StandardScaler()), (\"knn\", KNeighborsRegressor(n_jobs=-1))])\n",
    "knn_grid = GridSearchCV(knn_pipe, knn_params, cv=5, n_jobs=-1, verbose=True)\n",
    "knn_grid.fit(x_train, y_train)\n",
    "y_pred_k = knn_grid.predict(x_test)\n",
    "mean_squared_error(y_test, y_pred_k)"
   ]
  },
  {
   "cell_type": "code",
   "execution_count": null,
   "id": "d998fa2c",
   "metadata": {},
   "outputs": [],
   "source": []
  }
 ],
 "metadata": {
  "kernelspec": {
   "display_name": "Python 3 (ipykernel)",
   "language": "python",
   "name": "python3"
  },
  "language_info": {
   "codemirror_mode": {
    "name": "ipython",
    "version": 3
   },
   "file_extension": ".py",
   "mimetype": "text/x-python",
   "name": "python",
   "nbconvert_exporter": "python",
   "pygments_lexer": "ipython3",
   "version": "3.10.9"
  }
 },
 "nbformat": 4,
 "nbformat_minor": 5
}
